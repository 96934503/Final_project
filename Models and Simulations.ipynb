{
 "cells": [
  {
   "cell_type": "code",
   "execution_count": null,
   "id": "a68520cb",
   "metadata": {},
   "outputs": [],
   "source": [
    "# Import packages\n",
    "import pandas as pd\n",
    "from matplotlib import pyplot as plt\n",
    "import seaborn as sns\n",
    "import numpy as np\n",
    "import math\n",
    "import datetime as dt\n",
    "import yfinance as yf\n",
    "import random"
   ]
  },
  {
   "cell_type": "markdown",
   "id": "f311707b",
   "metadata": {},
   "source": [
    "# Obtaining Data"
   ]
  },
  {
   "cell_type": "code",
   "execution_count": null,
   "id": "67888169",
   "metadata": {},
   "outputs": [],
   "source": [
    "# Function to extract stock data we want\n",
    "def get_stock_data(tickers, num_days_back, info_type):\n",
    "    \"\"\"Takes in a list of stock tickers, the number of days into\n",
    "    the past we want data from and the type of price information, and \n",
    "    returns a Pandas dataframe with the stock data\"\"\"\n",
    "    \n",
    "    end_date = dt.datetime.now()\n",
    "    start_date = end_date - dt.timedelta(days = num_days_back)\n",
    "    \n",
    "    # Initialize a dataframe to store stock data\n",
    "    df = pd.DataFrame()\n",
    "    \n",
    "    # For each stock, download the desired information\n",
    "    for ticker in tickers:\n",
    "        data = yf.download(ticker, start = start_date, end = end_date)\n",
    "        df[ticker] = data[info_type]\n",
    "    \n",
    "    return df"
   ]
  },
  {
   "cell_type": "code",
   "execution_count": null,
   "id": "d344f1b3",
   "metadata": {},
   "outputs": [],
   "source": [
    "# Sustainable Stocks/Tickers we want to analyze\n",
    "stocks_sustainable = [\"AQN\", \"BEPC\", \"CEG\", \"CSIQ\", \"DQ\", \"GE\", \"IBDRY\", \"JKS\", \"NEE\", \"VWDRY\"]\n",
    "\n",
    "# Unsustainable companies tickers\n",
    "stocks_unsustainable = [\"EQNR\", \"BP\", \"0857.HK\", \"COP\", \"FP.VI\", \"SHEL\", \"CVX\", \"SR\", \"ENEL.MI\"]\n",
    "\n",
    "df_sustain = get_stock_data(tickers = stocks_sustainable, num_days_back = 1000, info_type = \"Adj Close\")\n",
    "df_unsustain = get_stock_data(tickers = stocks_unsustainable, num_days_back = 1000, info_type = \"Adj Close\")"
   ]
  },
  {
   "cell_type": "markdown",
   "id": "d178cf13",
   "metadata": {},
   "source": [
    "# Trading Strategies"
   ]
  },
  {
   "cell_type": "markdown",
   "id": "f4c6ec8b",
   "metadata": {},
   "source": [
    "## Baseline strategy: Random Trading"
   ]
  },
  {
   "cell_type": "code",
   "execution_count": null,
   "id": "febf29f9",
   "metadata": {},
   "outputs": [],
   "source": [
    "def simulate_trade(ticker_symbol, initial_balance, num_days, data = None, description = True):\n",
    "    \"\"\"Takes in ticker of a chosen stock, initial balance to trade with,\n",
    "    and number of days to trade for, performs the random buying and selling strategy\n",
    "    for for the most recent days possible, and returns the description of trades and final\n",
    "    account balance\"\"\"\n",
    "    \n",
    "    # Download historical stock data if not given\n",
    "    if data is None:\n",
    "        stock_data = yf.download(ticker_symbol, \n",
    "                        start=dt.datetime.now() - dt.timedelta(days=num_days),\n",
    "                        end=dt.datetime.now())\n",
    "    elif isinstance(data, pd.core.frame.DataFrame):\n",
    "        stock_data = data\n",
    "    else:\n",
    "        raise ValueError(\"Invalid type for 'data'. Expected DataFrame or None.\")\n",
    "    \n",
    "    # Initialize variables for account balance and stock quantity held\n",
    "    balance = initial_balance\n",
    "    stock_quantity = 0\n",
    "\n",
    "    # Define the trades for each day\n",
    "    for day in range(1, len(stock_data) + 1):\n",
    "        action = random.choice(['buy', 'sell'])\n",
    "\n",
    "        # Get the stock price for the current day\n",
    "        current_price = stock_data['Adj Close'][day - 1]\n",
    "\n",
    "        if action == 'buy':\n",
    "            # Randomly determine the quantity to buy\n",
    "            buy_quantity = random.randint(1, 10)\n",
    "\n",
    "            total_cost = buy_quantity * current_price\n",
    "\n",
    "            if total_cost <= balance:\n",
    "                # Perform the purchase\n",
    "                stock_quantity += buy_quantity\n",
    "                balance -= total_cost\n",
    "                \n",
    "                # Describe trade if specified\n",
    "                if description == True:\n",
    "                    print(f\"Day {day}: Bought {buy_quantity} stocks at ${current_price:.2f} each.\")\n",
    "\n",
    "        elif action == 'sell' and stock_quantity > 0:\n",
    "            # Randomly determine the quantity to sell\n",
    "            sell_quantity = random.randint(1, stock_quantity)\n",
    "\n",
    "            total_earning = sell_quantity * current_price\n",
    "\n",
    "            # Perform the sale\n",
    "            stock_quantity -= sell_quantity\n",
    "            balance += total_earning\n",
    "            \n",
    "            # Describe the trade if specified\n",
    "            if description == True:\n",
    "                print(f\"Day {day}: Sold {sell_quantity} stocks at ${current_price:.2f} each.\")\n",
    "\n",
    "    # Sell remaining stocks on the last day\n",
    "    if stock_quantity > 0:\n",
    "        total_earning = stock_quantity * current_price\n",
    "        balance += total_earning\n",
    "        \n",
    "        if description == True:\n",
    "            print(f\"Final day: Sold remaining {stock_quantity} stocks at ${current_price:.2f} each.\")\n",
    "\n",
    "    if description == True:\n",
    "        print(f\"Final balance: ${balance:.2f}\")\n",
    "    \n",
    "    else:\n",
    "        return balance"
   ]
  },
  {
   "cell_type": "code",
   "execution_count": null,
   "id": "a4854816",
   "metadata": {},
   "outputs": [],
   "source": [
    "# Test the function\n",
    "simulate_trade(\"Shel\", 10000, 20)"
   ]
  },
  {
   "cell_type": "code",
   "execution_count": null,
   "id": "e6eef2b4",
   "metadata": {},
   "outputs": [],
   "source": [
    "# Get 30-day EQNR Data\n",
    "df5 = stock_data = yf.download(\"EQNR\", start = dt.datetime.now() - dt.timedelta(days = 30), end = dt.datetime.now())"
   ]
  },
  {
   "cell_type": "code",
   "execution_count": null,
   "id": "57cc787b",
   "metadata": {},
   "outputs": [],
   "source": [
    "# Simulate many trading cycles (30-days)\n",
    "trade_simulations_EQNR = [simulate_trade(\"EQNR\", 100, 30, data = df5, description = False) for i in range(10000)]"
   ]
  },
  {
   "cell_type": "code",
   "execution_count": null,
   "id": "c8c0c3f5",
   "metadata": {},
   "outputs": [],
   "source": [
    "# Plot the trade simulations distribution\n",
    "plt.figure(figsize=(10,4))\n",
    "sns.displot(trade_simulations_EQNR)\n",
    "plt.axvline(np.mean(trade_simulations_EQNR), color='b', linestyle='-')\n",
    "plt.axvline(100, color='g', linestyle='--')\n",
    "plt.title('Avg: $%s\\nSD: $%s'%(round(np.mean(trade_simulations_EQNR),2), round(np.std(trade_simulations_EQNR),2)), fontsize=20)"
   ]
  },
  {
   "cell_type": "markdown",
   "id": "5be7a436",
   "metadata": {},
   "source": [
    "## Models"
   ]
  },
  {
   "cell_type": "markdown",
   "id": "9988b1d3",
   "metadata": {},
   "source": [
    "### ARIMA"
   ]
  },
  {
   "cell_type": "code",
   "execution_count": null,
   "id": "a89062d4",
   "metadata": {},
   "outputs": [],
   "source": []
  },
  {
   "cell_type": "markdown",
   "id": "f277a626",
   "metadata": {},
   "source": [
    "### GARCH"
   ]
  },
  {
   "cell_type": "code",
   "execution_count": null,
   "id": "c68d9b30",
   "metadata": {},
   "outputs": [],
   "source": [
    "from arch import arch_model\n",
    "from statsmodels.graphics.tsaplots import plot_acf, plot_pacf"
   ]
  },
  {
   "cell_type": "code",
   "execution_count": null,
   "id": "dc8cac9e",
   "metadata": {},
   "outputs": [],
   "source": [
    "# Take just EQNR as an experiment\n",
    "df1 = df_unsustain[\"EQNR\"]"
   ]
  },
  {
   "cell_type": "code",
   "execution_count": null,
   "id": "d4b0ac6d",
   "metadata": {},
   "outputs": [],
   "source": [
    "returns = 100 * df1.pct_change().dropna()\n",
    "\n",
    "print(returns)"
   ]
  },
  {
   "cell_type": "code",
   "execution_count": null,
   "id": "5c3d4e6b",
   "metadata": {},
   "outputs": [],
   "source": [
    "plt.figure(figsize = (10, 4))\n",
    "plt.plot(returns)\n",
    "plt.ylabel(\"Pct Return\", fontsize = 16)\n",
    "plt.title(\"EQNR Returns\", fontsize = 20)"
   ]
  },
  {
   "cell_type": "markdown",
   "id": "3e6f6cd3",
   "metadata": {},
   "source": [
    "### PACF"
   ]
  },
  {
   "cell_type": "code",
   "execution_count": null,
   "id": "e9cfb490",
   "metadata": {},
   "outputs": [],
   "source": [
    "plot_pacf(returns**2)\n",
    "plt.show() # Not very autocorrelated returns variance"
   ]
  },
  {
   "cell_type": "code",
   "execution_count": null,
   "id": "8f643b7c",
   "metadata": {},
   "outputs": [],
   "source": [
    "model_1 = arch_model(returns, p = 2, q = 2)"
   ]
  },
  {
   "cell_type": "code",
   "execution_count": null,
   "id": "589614ce",
   "metadata": {},
   "outputs": [],
   "source": [
    "model_fit = model_1.fit()"
   ]
  },
  {
   "cell_type": "code",
   "execution_count": null,
   "id": "0ee0ec6b",
   "metadata": {},
   "outputs": [],
   "source": [
    "# Insignificant -> not a useful choice\n",
    "print(model_fit.summary())"
   ]
  },
  {
   "cell_type": "markdown",
   "id": "e6e4ff06",
   "metadata": {},
   "source": [
    "## 1. AQN"
   ]
  },
  {
   "cell_type": "code",
   "execution_count": null,
   "id": "477dca32",
   "metadata": {},
   "outputs": [],
   "source": [
    "from statsmodels.tsa.arima.model import ARIMA"
   ]
  },
  {
   "cell_type": "code",
   "execution_count": null,
   "id": "6f482a0b",
   "metadata": {},
   "outputs": [],
   "source": [
    "# Choose a stock from the dataset\n",
    "df2 = df_sustain[\"AQN\"]\n",
    "df2.head(3)"
   ]
  },
  {
   "cell_type": "code",
   "execution_count": null,
   "id": "4d757f07",
   "metadata": {},
   "outputs": [],
   "source": [
    "# Plot the prices -> non-stationary\n",
    "plt.figure(figsize = (10, 4))\n",
    "plt.plot(df2)\n",
    "plt.ylabel(\"Price\", fontsize = 16)\n",
    "plt.title(\"AQN price\", fontsize = 20)"
   ]
  },
  {
   "cell_type": "code",
   "execution_count": null,
   "id": "a5f75ca7",
   "metadata": {},
   "outputs": [],
   "source": [
    "# First-Differences (returns)\n",
    "df2_returns = 100*df2.pct_change().dropna()\n",
    "\n",
    "# seems more stationary now\n",
    "plt.figure(figsize = (10, 4))\n",
    "plt.plot(df2_diff)\n",
    "plt.ylabel(\"Returns\", fontsize = 16)\n",
    "plt.title(\"AQN Returns\", fontsize = 20)"
   ]
  },
  {
   "cell_type": "code",
   "execution_count": null,
   "id": "9729040f",
   "metadata": {},
   "outputs": [],
   "source": [
    "# ACF to examine the MA part -> MA(1) seems likely\n",
    "plot_acf(df2_diff)\n",
    "plt.show"
   ]
  },
  {
   "cell_type": "code",
   "execution_count": null,
   "id": "c486649d",
   "metadata": {},
   "outputs": [],
   "source": [
    "# PACF to examine the AR part -> AR(1) seems likely\n",
    "plot_pacf(df2_diff, method = \"ywm\")\n",
    "plt.show"
   ]
  },
  {
   "cell_type": "markdown",
   "id": "5f1c2e85",
   "metadata": {},
   "source": [
    "### Try ARMA(1,1)"
   ]
  },
  {
   "cell_type": "code",
   "execution_count": null,
   "id": "9d1c1eb3",
   "metadata": {},
   "outputs": [],
   "source": [
    "# Split data into training and testing datasets\n",
    "train_end = dt.datetime(2023,9,1)\n",
    "test_end = dt.datetime(2023,12,31)\n",
    "\n",
    "train_data = df2_diff[:train_end]\n",
    "test_data = df2_diff[train_end + dt.timedelta(days = 1):test_end]"
   ]
  },
  {
   "cell_type": "code",
   "execution_count": null,
   "id": "ff67b58c",
   "metadata": {},
   "outputs": [],
   "source": [
    "# Model define\n",
    "model_1 = ARIMA(train_data, order = (1,0,1))"
   ]
  },
  {
   "cell_type": "code",
   "execution_count": null,
   "id": "397dffeb",
   "metadata": {},
   "outputs": [],
   "source": [
    "# fit the model\n",
    "model_1_fit = model_1.fit()"
   ]
  },
  {
   "cell_type": "code",
   "execution_count": null,
   "id": "c73bb8c7",
   "metadata": {},
   "outputs": [],
   "source": [
    "# summary table -> only sigma2 significant, Does not make sense to use MA nor AR\n",
    "print(model_1_fit.summary())"
   ]
  },
  {
   "cell_type": "markdown",
   "id": "98541cc0",
   "metadata": {},
   "source": [
    "## 2. Shell"
   ]
  },
  {
   "cell_type": "code",
   "execution_count": null,
   "id": "3840c152",
   "metadata": {},
   "outputs": [],
   "source": [
    "# Load the dataset\n",
    "df3 = df_unsustain[\"SHEL\"]\n",
    "\n",
    "# Plot the price\n",
    "plt.figure(figsize = (10, 4))\n",
    "plt.plot(df3)\n",
    "plt.ylabel(\"Price\", fontsize = 16)\n",
    "plt.title(\"Shell Price\", fontsize = 20)"
   ]
  },
  {
   "cell_type": "code",
   "execution_count": null,
   "id": "bfaf9e86",
   "metadata": {},
   "outputs": [],
   "source": [
    "# calculate daily returns\n",
    "returns_shell = 100 * df3.pct_change().dropna()\n",
    "\n",
    "# Plot the returns\n",
    "plt.figure(figsize = (10, 4))\n",
    "plt.plot(returns_shell)\n",
    "plt.ylabel(\"Returns\", fontsize = 16)\n",
    "plt.title(\"Shell Returns\", fontsize = 20)"
   ]
  },
  {
   "cell_type": "code",
   "execution_count": null,
   "id": "17c7fc98",
   "metadata": {},
   "outputs": [],
   "source": [
    "# ACF\n",
    "plot_acf(returns_shell)\n",
    "plt.show"
   ]
  },
  {
   "cell_type": "code",
   "execution_count": null,
   "id": "5301d83a",
   "metadata": {},
   "outputs": [],
   "source": [
    "# PACF -> not a good candidate for ARIMA\n",
    "plot_pacf(returns_shell, method = \"ywm\")\n",
    "plt.show"
   ]
  },
  {
   "cell_type": "markdown",
   "id": "763c4cf4",
   "metadata": {},
   "source": [
    "### Try GARCH"
   ]
  },
  {
   "cell_type": "code",
   "execution_count": null,
   "id": "8d8617dd",
   "metadata": {},
   "outputs": [],
   "source": [
    "# ACF\n",
    "plot_acf(returns_shell**2)\n",
    "plt.show"
   ]
  },
  {
   "cell_type": "code",
   "execution_count": null,
   "id": "dad6f07e",
   "metadata": {},
   "outputs": [],
   "source": [
    "# PACF\n",
    "plot_pacf(returns_shell**2, method = \"ywm\")\n",
    "plt.show"
   ]
  },
  {
   "cell_type": "markdown",
   "id": "4390092b",
   "metadata": {},
   "source": [
    "### GARCH(3,3)"
   ]
  },
  {
   "cell_type": "code",
   "execution_count": null,
   "id": "2e5568f0",
   "metadata": {},
   "outputs": [],
   "source": [
    "# Training and testing sets\n",
    "# Split data into training and testing datasets\n",
    "train_end_shell = dt.datetime(2023,9,1)\n",
    "test_end_shell = train_end_shell + dt.timedelta(days=90)\n",
    "\n",
    "train_data_shell = returns_shell[:train_end_shell]\n",
    "test_data_shell = returns_shell[train_end_shell + dt.timedelta(days = 1):test_end_shell]"
   ]
  },
  {
   "cell_type": "code",
   "execution_count": null,
   "id": "a7f1e499",
   "metadata": {},
   "outputs": [],
   "source": [
    "# Define model\n",
    "model_garch_shell = arch_model(train_data_shell, p=3, q=3)"
   ]
  },
  {
   "cell_type": "code",
   "execution_count": null,
   "id": "372751b7",
   "metadata": {},
   "outputs": [],
   "source": [
    "# Fit the model\n",
    "fit_garch_shell = model_garch_shell.fit()"
   ]
  },
  {
   "cell_type": "code",
   "execution_count": null,
   "id": "fa38ecaf",
   "metadata": {},
   "outputs": [],
   "source": [
    "print(fit_garch_shell.summary())"
   ]
  },
  {
   "cell_type": "markdown",
   "id": "8254c3f5",
   "metadata": {},
   "source": [
    "### Try GARCH(0,3)"
   ]
  },
  {
   "cell_type": "code",
   "execution_count": null,
   "id": "3ff2efda",
   "metadata": {},
   "outputs": [],
   "source": [
    "# Fit the model\n",
    "model_garch_shell_2 = arch_model(train_data_shell, p=1, q=3)\n",
    "\n",
    "garch_shell_2_fit = model_garch_shell_2.fit()"
   ]
  },
  {
   "cell_type": "code",
   "execution_count": null,
   "id": "f85ac614",
   "metadata": {},
   "outputs": [],
   "source": [
    "print(garch_shell_2_fit.summary()) # seems like a better fit"
   ]
  },
  {
   "cell_type": "markdown",
   "id": "79ac9a33",
   "metadata": {},
   "source": [
    "### Predictions"
   ]
  },
  {
   "cell_type": "code",
   "execution_count": null,
   "id": "75325f44",
   "metadata": {},
   "outputs": [],
   "source": [
    "# Calculate the variance of Shell returns\n",
    "#var_shell = np.var(returns_shell.dropna())\n",
    "#print(var_shell)"
   ]
  },
  {
   "cell_type": "code",
   "execution_count": null,
   "id": "19d629e1",
   "metadata": {},
   "outputs": [],
   "source": [
    "# Predict 7-days into the future\n",
    "forecast_length = 90\n",
    "prediction_shell = garch_shell_2_fit.forecast(horizon = forecast_length)"
   ]
  },
  {
   "cell_type": "code",
   "execution_count": null,
   "id": "71a3403b",
   "metadata": {},
   "outputs": [],
   "source": [
    "# Plot the forecasted values\n",
    "plt.figure(figsize=(10,4))\n",
    "preds, = plt.plot(np.sqrt(prediction_shell.variance.values[-1, :]))\n",
    "plt.title('Volatility Prediction', fontsize=20)\n",
    "plt.legend([\"90-day predicted Volatility\"], fontsize=10)"
   ]
  },
  {
   "cell_type": "code",
   "execution_count": null,
   "id": "883af18a",
   "metadata": {},
   "outputs": [],
   "source": [
    "# Plot 7-day shell returns\n",
    "plt.figure(figsize = (10, 4))\n",
    "plt.plot(returns_shell[train_end_shell:(train_end_shell + dt.timedelta(days = 90))])\n",
    "plt.ylabel(\"Price\", fontsize = 16)\n",
    "plt.title(\"Shell Price\", fontsize = 20)"
   ]
  }
 ],
 "metadata": {
  "kernelspec": {
   "display_name": "Python 3 (ipykernel)",
   "language": "python",
   "name": "python3"
  },
  "language_info": {
   "codemirror_mode": {
    "name": "ipython",
    "version": 3
   },
   "file_extension": ".py",
   "mimetype": "text/x-python",
   "name": "python",
   "nbconvert_exporter": "python",
   "pygments_lexer": "ipython3",
   "version": "3.10.9"
  }
 },
 "nbformat": 4,
 "nbformat_minor": 5
}
